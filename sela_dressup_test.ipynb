{
 "cells": [
  {
   "cell_type": "markdown",
   "metadata": {},
   "source": [
    "the way this works so far is there are two background/foreground aesthetic layers: background --> literally just the pond image and frog\n",
    "\n",
    "foreground --> the arrows and buttons, not clickable literally psuedo images that do nothing BUT behind the arrows there are sprites that are the black rectangles that are clickable\n",
    "\n",
    "-reason for this: simple rectangle to click and can make in init for both left and right arrows\n"
   ]
  },
  {
   "cell_type": "code",
   "execution_count": 71,
   "metadata": {},
   "outputs": [
    {
     "name": "stderr",
     "output_type": "stream",
     "text": [
      "shared memfd open() failed: Function not implemented\n",
      "shared memfd open() failed: Function not implemented\n"
     ]
    }
   ],
   "source": [
    "# Import and initialize the pygame library\n",
    "import pygame\n",
    "pygame.init()\n",
    "\n",
    "# Set up the drawing window\n",
    "screen = pygame.display.set_mode([500, 668])\n",
    "background = pygame.image.load('sela_test_images/back_bg_layer.png')\n",
    "foreground = pygame.image.load('sela_test_images/front_bg_layer.png')\n",
    "\n",
    "right_bottom_coords = (440,570)\n",
    "left_bottom_coords = (23,570)\n",
    "\n",
    "class Arrow(pygame.sprite.Sprite):\n",
    "\n",
    "    def __init__(self):\n",
    "        self.surf = pygame.Surface((40, 50))\n",
    "        self.surf.fill((0,0,0))\n",
    "        #self.surf = pygame.image.load('sela_test_images/arrow.png').convert()\n",
    "        self.rect = self.surf.get_rect()\n",
    "\n",
    "    def click_right(self):\n",
    "        if self.rect.collidepoint(pygame.mouse.get_pos()):\n",
    "            self.surf.fill((255,255,255))\n",
    "            screen.blit(pygame.image.load(Outfit.change_bottom()), (0,0))\n",
    "\n",
    "    def click_left(self):\n",
    "        pass\n",
    "\n",
    "\n",
    "class Outfit():\n",
    "\n",
    "    def __init__(self):\n",
    "        bottoms = ['sela_test_images/invisible.png', 'sela_test_images/thigh_bottom.png', 'sela_test_images/creep_bottom.png']\n",
    "        i = 0\n",
    "        self.bottom = bottoms[i]\n",
    "        screen.blit(pygame.image.load(self.bottom), (0,0))\n",
    "\n",
    "    def change_bottom(self):\n",
    "        if i+1 > len(bottoms):\n",
    "            i = 0\n",
    "            self.bottom = bottoms[i]\n",
    "        else: self.bottom = bottoms[i+1]\n",
    "        return self.bottom\n",
    "\n",
    "\n",
    "right_bottom = Arrow()\n",
    "left_bottom = Arrow()\n",
    "bottoms = ['sela_test_images/invisible.png', 'sela_test_images/thigh_bottom.png', 'sela_test_images/creep_bottom.png']\n",
    "i = 0\n",
    "\n",
    "\n",
    "# Run until the user asks to quit\n",
    "running = True\n",
    "while running:\n",
    "\n",
    "    # Did the user click the window close button?\n",
    "    for event in pygame.event.get():\n",
    "        if event.type == pygame.QUIT:\n",
    "            running = False\n",
    "        if event == pygame.MOUSEBUTTONDOWN:\n",
    "            if pygame.mouse.get_pressed()[0]:\n",
    "                right_bottom.click_right()\n",
    "                left_bottom.click_left()\n",
    "\n",
    "\n",
    "    pygame.mouse.set_cursor(pygame.SYSTEM_CURSOR_CROSSHAIR)\n",
    "    screen.blit(background, (0,0))\n",
    "    screen.blit(right_bottom.surf, right_bottom_coords)\n",
    "    screen.blit(left_bottom.surf, left_bottom_coords)\n",
    "    # screen.blit(Outfit.bottom, (0,0))\n",
    "    screen.blit(foreground, (0,0))\n",
    "    \n",
    "    # Flip the display\n",
    "    pygame.display.flip()\n",
    "\n",
    "# Done! Time to quit.\n",
    "pygame.quit()\n"
   ]
  }
 ],
 "metadata": {
  "interpreter": {
   "hash": "a78f4d0264ab80648a7507dac01f4d2922e3bb64a3d47ed7d8579e551619cd07"
  },
  "kernelspec": {
   "display_name": "Python 3.9.7 ('base')",
   "language": "python",
   "name": "python3"
  },
  "language_info": {
   "codemirror_mode": {
    "name": "ipython",
    "version": 3
   },
   "file_extension": ".py",
   "mimetype": "text/x-python",
   "name": "python",
   "nbconvert_exporter": "python",
   "pygments_lexer": "ipython3",
   "version": "3.9.7"
  },
  "orig_nbformat": 4
 },
 "nbformat": 4,
 "nbformat_minor": 2
}
